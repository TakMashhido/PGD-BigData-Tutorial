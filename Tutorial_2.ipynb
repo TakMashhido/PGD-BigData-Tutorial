{
  "nbformat": 4,
  "nbformat_minor": 0,
  "metadata": {
    "colab": {
      "provenance": []
    },
    "kernelspec": {
      "name": "python3",
      "display_name": "Python 3"
    },
    "language_info": {
      "name": "python"
    }
  },
  "cells": [
    {
      "cell_type": "code",
      "execution_count": 1,
      "metadata": {
        "colab": {
          "base_uri": "https://localhost:8080/"
        },
        "id": "LfnqvwYs9pvi",
        "outputId": "1b3829ba-3f3f-4a33-b087-b33c2dcc7963"
      },
      "outputs": [
        {
          "output_type": "stream",
          "name": "stdout",
          "text": [
            "Looking in indexes: https://pypi.org/simple, https://us-python.pkg.dev/colab-wheels/public/simple/\n",
            "Collecting pyspark\n",
            "  Downloading pyspark-3.3.2.tar.gz (281.4 MB)\n",
            "\u001b[2K     \u001b[90m━━━━━━━━━━━━━━━━━━━━━━━━━━━━━━━━━━━━━━━\u001b[0m \u001b[32m281.4/281.4 MB\u001b[0m \u001b[31m3.6 MB/s\u001b[0m eta \u001b[36m0:00:00\u001b[0m\n",
            "\u001b[?25h  Preparing metadata (setup.py) ... \u001b[?25l\u001b[?25hdone\n",
            "Collecting py4j==0.10.9.5\n",
            "  Downloading py4j-0.10.9.5-py2.py3-none-any.whl (199 kB)\n",
            "\u001b[2K     \u001b[90m━━━━━━━━━━━━━━━━━━━━━━━━━━━━━━━━━━━━━━\u001b[0m \u001b[32m199.7/199.7 KB\u001b[0m \u001b[31m15.0 MB/s\u001b[0m eta \u001b[36m0:00:00\u001b[0m\n",
            "\u001b[?25hBuilding wheels for collected packages: pyspark\n",
            "  Building wheel for pyspark (setup.py) ... \u001b[?25l\u001b[?25hdone\n",
            "  Created wheel for pyspark: filename=pyspark-3.3.2-py2.py3-none-any.whl size=281824025 sha256=ddeb93cdc9619101ecc15664220d5233d57cc29ec43c69215850bb9b996b9d4b\n",
            "  Stored in directory: /root/.cache/pip/wheels/b1/59/a0/a1a0624b5e865fd389919c1a10f53aec9b12195d6747710baf\n",
            "Successfully built pyspark\n",
            "Installing collected packages: py4j, pyspark\n",
            "Successfully installed py4j-0.10.9.5 pyspark-3.3.2\n"
          ]
        }
      ],
      "source": [
        "!pip install pyspark"
      ]
    },
    {
      "cell_type": "code",
      "source": [
        "from pyspark.sql import SparkSession"
      ],
      "metadata": {
        "id": "vrUuuXYJ9szn"
      },
      "execution_count": 2,
      "outputs": []
    },
    {
      "cell_type": "code",
      "source": [
        "spark = SparkSession.builder.appName(\"tutorial-2\").getOrCreate()"
      ],
      "metadata": {
        "id": "nbNGHasd98_7"
      },
      "execution_count": 3,
      "outputs": []
    },
    {
      "cell_type": "code",
      "source": [
        "!curl https://raw.githubusercontent.com/TakMashhido/PGD-BigData-Tutorial/main/Dataset/sales_data.csv >> sales_data.csv"
      ],
      "metadata": {
        "colab": {
          "base_uri": "https://localhost:8080/"
        },
        "id": "11XI4Izf-LeV",
        "outputId": "08cd401d-5ffc-480c-a4f0-530dca540820"
      },
      "execution_count": 4,
      "outputs": [
        {
          "output_type": "stream",
          "name": "stdout",
          "text": [
            "  % Total    % Received % Xferd  Average Speed   Time    Time     Time  Current\n",
            "                                 Dload  Upload   Total   Spent    Left  Speed\n",
            "\r  0     0    0     0    0     0      0      0 --:--:-- --:--:-- --:--:--     0\r100   202  100   202    0     0   1286      0 --:--:-- --:--:-- --:--:--  1286\n"
          ]
        }
      ]
    },
    {
      "cell_type": "code",
      "source": [
        "df = spark.read.csv(\"/content/sales_data.csv\", header= True, inferSchema= True)"
      ],
      "metadata": {
        "id": "pEQ8hTLV-1uU"
      },
      "execution_count": 5,
      "outputs": []
    },
    {
      "cell_type": "code",
      "source": [
        "df.show()"
      ],
      "metadata": {
        "colab": {
          "base_uri": "https://localhost:8080/"
        },
        "id": "5AanrwzV_V45",
        "outputId": "a500243e-4194-4490-b3f6-6f4708094bb9"
      },
      "execution_count": 6,
      "outputs": [
        {
          "output_type": "stream",
          "name": "stdout",
          "text": [
            "+-------+--------------+---------+\n",
            "|company|representative|num_sales|\n",
            "+-------+--------------+---------+\n",
            "|    XYZ|           Bob|    200.0|\n",
            "|    XYZ|           Tom|    120.0|\n",
            "|    XYZ|         Frank|    340.0|\n",
            "|   ABCD|         Jerry|    600.0|\n",
            "|   ABCD|           Amy|    124.0|\n",
            "|   ABCD|       Vanessa|    243.0|\n",
            "|     OK|          Carl|    870.0|\n",
            "|     OK|         Sarah|    350.0|\n",
            "|   BLAH|          John|    250.0|\n",
            "|   BLAH|         Linda|    130.0|\n",
            "|   BLAH|          Mike|    750.0|\n",
            "|   BLAH|         Chris|    350.0|\n",
            "+-------+--------------+---------+\n",
            "\n"
          ]
        }
      ]
    },
    {
      "cell_type": "code",
      "source": [
        "df.printSchema()"
      ],
      "metadata": {
        "colab": {
          "base_uri": "https://localhost:8080/"
        },
        "id": "e3FwPhks_aQb",
        "outputId": "3e085c14-e8ec-477e-f3e7-1a9d9851711f"
      },
      "execution_count": 7,
      "outputs": [
        {
          "output_type": "stream",
          "name": "stdout",
          "text": [
            "root\n",
            " |-- company: string (nullable = true)\n",
            " |-- representative: string (nullable = true)\n",
            " |-- num_sales: double (nullable = true)\n",
            "\n"
          ]
        }
      ]
    },
    {
      "cell_type": "code",
      "source": [
        "df.groupBy(\"company\")"
      ],
      "metadata": {
        "colab": {
          "base_uri": "https://localhost:8080/"
        },
        "id": "JoiAqQ48_giK",
        "outputId": "94b445d8-84fc-4ddf-e2a3-e10ec44ee0dc"
      },
      "execution_count": 10,
      "outputs": [
        {
          "output_type": "execute_result",
          "data": {
            "text/plain": [
              "<pyspark.sql.group.GroupedData at 0x7ff9bd353d00>"
            ]
          },
          "metadata": {},
          "execution_count": 10
        }
      ]
    },
    {
      "cell_type": "code",
      "source": [
        "df.groupBy(\"company\").mean().show()"
      ],
      "metadata": {
        "colab": {
          "base_uri": "https://localhost:8080/"
        },
        "id": "RmFD1aiD_rdg",
        "outputId": "b66a825c-dea0-4927-e33a-2e9dbae24ba4"
      },
      "execution_count": 11,
      "outputs": [
        {
          "output_type": "stream",
          "name": "stdout",
          "text": [
            "+-------+-----------------+\n",
            "|company|   avg(num_sales)|\n",
            "+-------+-----------------+\n",
            "|   BLAH|            370.0|\n",
            "|    XYZ|            220.0|\n",
            "|     OK|            610.0|\n",
            "|   ABCD|322.3333333333333|\n",
            "+-------+-----------------+\n",
            "\n"
          ]
        }
      ]
    },
    {
      "cell_type": "code",
      "source": [
        "df.groupBy(\"company\").count().show()"
      ],
      "metadata": {
        "colab": {
          "base_uri": "https://localhost:8080/"
        },
        "id": "xt5VbFzEABUC",
        "outputId": "475defcf-de87-4c3c-fda9-f0369bb1a358"
      },
      "execution_count": 13,
      "outputs": [
        {
          "output_type": "stream",
          "name": "stdout",
          "text": [
            "+-------+-----+\n",
            "|company|count|\n",
            "+-------+-----+\n",
            "|   BLAH|    4|\n",
            "|    XYZ|    3|\n",
            "|     OK|    2|\n",
            "|   ABCD|    3|\n",
            "+-------+-----+\n",
            "\n"
          ]
        }
      ]
    },
    {
      "cell_type": "code",
      "source": [
        "df.groupBy(\"company\").min().show()"
      ],
      "metadata": {
        "colab": {
          "base_uri": "https://localhost:8080/"
        },
        "id": "hjwMRfmjAOFo",
        "outputId": "0f8c1173-6e0a-4e5a-c24e-d1ff4f8f7877"
      },
      "execution_count": 14,
      "outputs": [
        {
          "output_type": "stream",
          "name": "stdout",
          "text": [
            "+-------+--------------+\n",
            "|company|min(num_sales)|\n",
            "+-------+--------------+\n",
            "|   BLAH|         130.0|\n",
            "|    XYZ|         120.0|\n",
            "|     OK|         350.0|\n",
            "|   ABCD|         124.0|\n",
            "+-------+--------------+\n",
            "\n"
          ]
        }
      ]
    },
    {
      "cell_type": "code",
      "source": [
        "df.groupBy(\"company\").max().show()"
      ],
      "metadata": {
        "colab": {
          "base_uri": "https://localhost:8080/"
        },
        "id": "wuDJ4jg4AUc_",
        "outputId": "ede89825-56a7-4b03-c945-26f75eed9676"
      },
      "execution_count": 15,
      "outputs": [
        {
          "output_type": "stream",
          "name": "stdout",
          "text": [
            "+-------+--------------+\n",
            "|company|max(num_sales)|\n",
            "+-------+--------------+\n",
            "|   BLAH|         750.0|\n",
            "|    XYZ|         340.0|\n",
            "|     OK|         870.0|\n",
            "|   ABCD|         600.0|\n",
            "+-------+--------------+\n",
            "\n"
          ]
        }
      ]
    },
    {
      "cell_type": "code",
      "source": [
        "df.groupBy(\"company\").sum().show()"
      ],
      "metadata": {
        "colab": {
          "base_uri": "https://localhost:8080/"
        },
        "id": "kWRxh4bZAXOj",
        "outputId": "ad22e16d-d4e6-43ef-a5d9-0f18572682f0"
      },
      "execution_count": 16,
      "outputs": [
        {
          "output_type": "stream",
          "name": "stdout",
          "text": [
            "+-------+--------------+\n",
            "|company|sum(num_sales)|\n",
            "+-------+--------------+\n",
            "|   BLAH|        1480.0|\n",
            "|    XYZ|         660.0|\n",
            "|     OK|        1220.0|\n",
            "|   ABCD|         967.0|\n",
            "+-------+--------------+\n",
            "\n"
          ]
        }
      ]
    },
    {
      "cell_type": "code",
      "source": [
        "df.agg({'num_sales': 'max'}).show()"
      ],
      "metadata": {
        "colab": {
          "base_uri": "https://localhost:8080/"
        },
        "id": "cssWR2GmAbt7",
        "outputId": "85ba4ea5-a545-4ae9-9cf4-de470ec2e285"
      },
      "execution_count": 17,
      "outputs": [
        {
          "output_type": "stream",
          "name": "stdout",
          "text": [
            "+--------------+\n",
            "|max(num_sales)|\n",
            "+--------------+\n",
            "|         870.0|\n",
            "+--------------+\n",
            "\n"
          ]
        }
      ]
    },
    {
      "cell_type": "code",
      "source": [
        "df.groupBy('company').agg({'num_sales': 'mean'}).show()"
      ],
      "metadata": {
        "colab": {
          "base_uri": "https://localhost:8080/"
        },
        "id": "WSySxiN7AyQb",
        "outputId": "bd8b52fd-e704-46e4-e2b4-1671e1956ca4"
      },
      "execution_count": 18,
      "outputs": [
        {
          "output_type": "stream",
          "name": "stdout",
          "text": [
            "+-------+-----------------+\n",
            "|company|   avg(num_sales)|\n",
            "+-------+-----------------+\n",
            "|   BLAH|            370.0|\n",
            "|    XYZ|            220.0|\n",
            "|     OK|            610.0|\n",
            "|   ABCD|322.3333333333333|\n",
            "+-------+-----------------+\n",
            "\n"
          ]
        }
      ]
    },
    {
      "cell_type": "code",
      "source": [
        "company_groups= df.groupBy('company')"
      ],
      "metadata": {
        "id": "ex_rhv5jBCGP"
      },
      "execution_count": 19,
      "outputs": []
    },
    {
      "cell_type": "code",
      "source": [
        "company_groups.min().show()"
      ],
      "metadata": {
        "colab": {
          "base_uri": "https://localhost:8080/"
        },
        "id": "b4bcFVYyBJ9h",
        "outputId": "7459437d-9624-4378-e73b-d546e4239c8c"
      },
      "execution_count": 20,
      "outputs": [
        {
          "output_type": "stream",
          "name": "stdout",
          "text": [
            "+-------+--------------+\n",
            "|company|min(num_sales)|\n",
            "+-------+--------------+\n",
            "|   BLAH|         130.0|\n",
            "|    XYZ|         120.0|\n",
            "|     OK|         350.0|\n",
            "|   ABCD|         124.0|\n",
            "+-------+--------------+\n",
            "\n"
          ]
        }
      ]
    },
    {
      "cell_type": "code",
      "source": [
        "from pyspark.sql.functions import countDistinct, avg, stddev"
      ],
      "metadata": {
        "id": "_12Tq3dGBOjE"
      },
      "execution_count": 21,
      "outputs": []
    },
    {
      "cell_type": "code",
      "source": [
        "df.select(countDistinct(\"num_sales\")).show()"
      ],
      "metadata": {
        "colab": {
          "base_uri": "https://localhost:8080/"
        },
        "id": "LB7Sc3UUBtju",
        "outputId": "c961131b-102c-4bc5-c488-a01444918a41"
      },
      "execution_count": 22,
      "outputs": [
        {
          "output_type": "stream",
          "name": "stdout",
          "text": [
            "+-------------------------+\n",
            "|count(DISTINCT num_sales)|\n",
            "+-------------------------+\n",
            "|                       11|\n",
            "+-------------------------+\n",
            "\n"
          ]
        }
      ]
    },
    {
      "cell_type": "code",
      "source": [
        "df.select(avg(\"num_sales\")).show()"
      ],
      "metadata": {
        "colab": {
          "base_uri": "https://localhost:8080/"
        },
        "id": "i2D3xRAgB6QJ",
        "outputId": "69330f75-0108-4184-b92a-29a65b4435e1"
      },
      "execution_count": 23,
      "outputs": [
        {
          "output_type": "stream",
          "name": "stdout",
          "text": [
            "+-----------------+\n",
            "|   avg(num_sales)|\n",
            "+-----------------+\n",
            "|360.5833333333333|\n",
            "+-----------------+\n",
            "\n"
          ]
        }
      ]
    },
    {
      "cell_type": "code",
      "source": [
        "df.select(stddev(\"num_sales\")).show()"
      ],
      "metadata": {
        "colab": {
          "base_uri": "https://localhost:8080/"
        },
        "id": "dHlCVAmlCEH0",
        "outputId": "6eeb781e-c4e1-4939-90e6-83bb9945c81b"
      },
      "execution_count": 24,
      "outputs": [
        {
          "output_type": "stream",
          "name": "stdout",
          "text": [
            "+----------------------+\n",
            "|stddev_samp(num_sales)|\n",
            "+----------------------+\n",
            "|    250.08742410799007|\n",
            "+----------------------+\n",
            "\n"
          ]
        }
      ]
    },
    {
      "cell_type": "code",
      "source": [
        "from pyspark.sql.functions import format_number"
      ],
      "metadata": {
        "id": "3bcmJ5noCHqR"
      },
      "execution_count": 25,
      "outputs": []
    },
    {
      "cell_type": "code",
      "source": [
        "sales_std= df.select(stddev('num_sales').alias('stddev'))"
      ],
      "metadata": {
        "id": "FAHIk74tCbHh"
      },
      "execution_count": 26,
      "outputs": []
    },
    {
      "cell_type": "code",
      "source": [
        "sales_std.show()"
      ],
      "metadata": {
        "colab": {
          "base_uri": "https://localhost:8080/"
        },
        "id": "KSxadiKTCs6f",
        "outputId": "d0d47d34-78d0-439d-cccc-8a01009e8b9e"
      },
      "execution_count": 27,
      "outputs": [
        {
          "output_type": "stream",
          "name": "stdout",
          "text": [
            "+------------------+\n",
            "|            stddev|\n",
            "+------------------+\n",
            "|250.08742410799007|\n",
            "+------------------+\n",
            "\n"
          ]
        }
      ]
    },
    {
      "cell_type": "code",
      "source": [
        "sales_std.select(format_number(\"stddev\", 2)).show()"
      ],
      "metadata": {
        "colab": {
          "base_uri": "https://localhost:8080/"
        },
        "id": "t6bZNvy5Crbh",
        "outputId": "a89fd9ba-45be-4290-a3fb-b45b5b1453c5"
      },
      "execution_count": 28,
      "outputs": [
        {
          "output_type": "stream",
          "name": "stdout",
          "text": [
            "+------------------------+\n",
            "|format_number(stddev, 2)|\n",
            "+------------------------+\n",
            "|                  250.09|\n",
            "+------------------------+\n",
            "\n"
          ]
        }
      ]
    },
    {
      "cell_type": "code",
      "source": [
        "df.orderBy(\"num_sales\").show()"
      ],
      "metadata": {
        "colab": {
          "base_uri": "https://localhost:8080/"
        },
        "id": "4iNPeLLjDGkp",
        "outputId": "38b35053-b71e-428c-e0b3-7fbefa46f203"
      },
      "execution_count": 29,
      "outputs": [
        {
          "output_type": "stream",
          "name": "stdout",
          "text": [
            "+-------+--------------+---------+\n",
            "|company|representative|num_sales|\n",
            "+-------+--------------+---------+\n",
            "|    XYZ|           Tom|    120.0|\n",
            "|   ABCD|           Amy|    124.0|\n",
            "|   BLAH|         Linda|    130.0|\n",
            "|    XYZ|           Bob|    200.0|\n",
            "|   ABCD|       Vanessa|    243.0|\n",
            "|   BLAH|          John|    250.0|\n",
            "|    XYZ|         Frank|    340.0|\n",
            "|     OK|         Sarah|    350.0|\n",
            "|   BLAH|         Chris|    350.0|\n",
            "|   ABCD|         Jerry|    600.0|\n",
            "|   BLAH|          Mike|    750.0|\n",
            "|     OK|          Carl|    870.0|\n",
            "+-------+--------------+---------+\n",
            "\n"
          ]
        }
      ]
    },
    {
      "cell_type": "code",
      "source": [
        "df.orderBy(df[\"num_sales\"].desc()).show()"
      ],
      "metadata": {
        "colab": {
          "base_uri": "https://localhost:8080/"
        },
        "id": "zyq1WoCVDYxE",
        "outputId": "f5852bc5-b61d-49c8-cab9-3bae251d9422"
      },
      "execution_count": 30,
      "outputs": [
        {
          "output_type": "stream",
          "name": "stdout",
          "text": [
            "+-------+--------------+---------+\n",
            "|company|representative|num_sales|\n",
            "+-------+--------------+---------+\n",
            "|     OK|          Carl|    870.0|\n",
            "|   BLAH|          Mike|    750.0|\n",
            "|   ABCD|         Jerry|    600.0|\n",
            "|     OK|         Sarah|    350.0|\n",
            "|   BLAH|         Chris|    350.0|\n",
            "|    XYZ|         Frank|    340.0|\n",
            "|   BLAH|          John|    250.0|\n",
            "|   ABCD|       Vanessa|    243.0|\n",
            "|    XYZ|           Bob|    200.0|\n",
            "|   BLAH|         Linda|    130.0|\n",
            "|   ABCD|           Amy|    124.0|\n",
            "|    XYZ|           Tom|    120.0|\n",
            "+-------+--------------+---------+\n",
            "\n"
          ]
        }
      ]
    },
    {
      "cell_type": "code",
      "source": [
        "!curl https://raw.githubusercontent.com/TakMashhido/PGD-BigData-Tutorial/main/Dataset/WMT.csv >> WMT.csv"
      ],
      "metadata": {
        "colab": {
          "base_uri": "https://localhost:8080/"
        },
        "id": "1cLTfa4zDoZU",
        "outputId": "56d1d255-4147-40db-e333-081778bb9675"
      },
      "execution_count": 31,
      "outputs": [
        {
          "output_type": "stream",
          "name": "stdout",
          "text": [
            "  % Total    % Received % Xferd  Average Speed   Time    Time     Time  Current\n",
            "                                 Dload  Upload   Total   Spent    Left  Speed\n",
            "100 89556  100 89556    0     0   462k      0 --:--:-- --:--:-- --:--:--  462k\n"
          ]
        }
      ]
    },
    {
      "cell_type": "code",
      "source": [
        "df1 = spark.read.csv('/content/WMT.csv', header= True, inferSchema=True)"
      ],
      "metadata": {
        "id": "P-UuwPcYEBJc"
      },
      "execution_count": 34,
      "outputs": []
    },
    {
      "cell_type": "code",
      "source": [
        "df1.show()"
      ],
      "metadata": {
        "colab": {
          "base_uri": "https://localhost:8080/"
        },
        "id": "eDL0L1DoENya",
        "outputId": "ef29c537-107c-491d-a321-124466497c6f"
      },
      "execution_count": 35,
      "outputs": [
        {
          "output_type": "stream",
          "name": "stdout",
          "text": [
            "+-------------------+---------+---------+---------+---------+---------+--------+\n",
            "|               Date|     Open|     High|      Low|    Close|Adj Close|  Volume|\n",
            "+-------------------+---------+---------+---------+---------+---------+--------+\n",
            "|2016-01-20 00:00:00|61.799999|62.330002|60.200001|    60.84|53.990601|17369100|\n",
            "|2016-01-21 00:00:00|    60.98|62.790001|    60.91|61.880001|54.913509|12089200|\n",
            "|2016-01-22 00:00:00|62.439999|63.259998|62.130001|62.689999|55.632324| 9197500|\n",
            "|2016-01-25 00:00:00|62.779999|    63.82|62.549999|63.450001|56.306763|12823400|\n",
            "|2016-01-26 00:00:00|63.360001|64.470001|63.259998|     64.0|56.794834| 9441200|\n",
            "|2016-01-27 00:00:00|64.099998|    65.18|63.889999|63.950001|56.750477|10214300|\n",
            "|2016-01-28 00:00:00|64.029999|64.510002|    63.43|64.220001| 56.99007|11278300|\n",
            "|2016-01-29 00:00:00|    64.75|66.529999|64.739998|66.360001|58.889149|16439100|\n",
            "|2016-02-01 00:00:00|65.910004|    67.93|65.889999|     67.5| 59.90081|14728400|\n",
            "|2016-02-02 00:00:00|67.300003|67.839996|66.279999|66.860001|59.332867|13585900|\n",
            "|2016-02-03 00:00:00|67.309998|     67.5|    65.07|66.269997| 58.80928|12315600|\n",
            "|2016-02-04 00:00:00|65.760002|66.550003|65.010002|66.419998| 58.94239|12833400|\n",
            "|2016-02-05 00:00:00|66.860001|67.529999|65.879997|     67.0|  59.4571|14196500|\n",
            "|2016-02-08 00:00:00|     66.5|67.150002|65.160004|66.900002|59.368362|20743600|\n",
            "|2016-02-09 00:00:00|65.489998|66.410004|    64.68|65.809998|58.401058|14642400|\n",
            "|2016-02-10 00:00:00|66.190002|66.589996|65.650002|65.790001| 58.38332| 9709300|\n",
            "|2016-02-11 00:00:00|65.019997|65.760002|64.779999|    65.32|57.966228|11186700|\n",
            "|2016-02-12 00:00:00|65.519997|    66.25|64.870003|    66.18|58.729424| 9695500|\n",
            "|2016-02-16 00:00:00|66.610001|66.800003|     65.5|65.900002|58.480934|11360500|\n",
            "|2016-02-17 00:00:00|66.099998|66.610001|65.809998|66.110001|58.667301|12426700|\n",
            "+-------------------+---------+---------+---------+---------+---------+--------+\n",
            "only showing top 20 rows\n",
            "\n"
          ]
        }
      ]
    },
    {
      "cell_type": "code",
      "source": [
        "from pyspark.sql.functions import format_number, dayofmonth, hour, dayofyear, month, year, weekofyear, date_format"
      ],
      "metadata": {
        "id": "gmwzK_D1EQQ4"
      },
      "execution_count": 37,
      "outputs": []
    },
    {
      "cell_type": "code",
      "source": [
        "df1.select(dayofmonth(df1['Date'])).show()"
      ],
      "metadata": {
        "colab": {
          "base_uri": "https://localhost:8080/"
        },
        "id": "5pS7RSszEsV0",
        "outputId": "17004396-bfbd-4e90-8c7a-a73826d20a4c"
      },
      "execution_count": 38,
      "outputs": [
        {
          "output_type": "stream",
          "name": "stdout",
          "text": [
            "+----------------+\n",
            "|dayofmonth(Date)|\n",
            "+----------------+\n",
            "|              20|\n",
            "|              21|\n",
            "|              22|\n",
            "|              25|\n",
            "|              26|\n",
            "|              27|\n",
            "|              28|\n",
            "|              29|\n",
            "|               1|\n",
            "|               2|\n",
            "|               3|\n",
            "|               4|\n",
            "|               5|\n",
            "|               8|\n",
            "|               9|\n",
            "|              10|\n",
            "|              11|\n",
            "|              12|\n",
            "|              16|\n",
            "|              17|\n",
            "+----------------+\n",
            "only showing top 20 rows\n",
            "\n"
          ]
        }
      ]
    },
    {
      "cell_type": "code",
      "source": [
        "df1.select(hour(df1['Date'])).show()"
      ],
      "metadata": {
        "colab": {
          "base_uri": "https://localhost:8080/"
        },
        "id": "ud0ufunlE-Up",
        "outputId": "4dd0d10b-e686-41c6-f2fb-87a06e908151"
      },
      "execution_count": 39,
      "outputs": [
        {
          "output_type": "stream",
          "name": "stdout",
          "text": [
            "+----------+\n",
            "|hour(Date)|\n",
            "+----------+\n",
            "|         0|\n",
            "|         0|\n",
            "|         0|\n",
            "|         0|\n",
            "|         0|\n",
            "|         0|\n",
            "|         0|\n",
            "|         0|\n",
            "|         0|\n",
            "|         0|\n",
            "|         0|\n",
            "|         0|\n",
            "|         0|\n",
            "|         0|\n",
            "|         0|\n",
            "|         0|\n",
            "|         0|\n",
            "|         0|\n",
            "|         0|\n",
            "|         0|\n",
            "+----------+\n",
            "only showing top 20 rows\n",
            "\n"
          ]
        }
      ]
    },
    {
      "cell_type": "code",
      "source": [
        "df1.select(dayofyear(df1['Date'])).show()"
      ],
      "metadata": {
        "colab": {
          "base_uri": "https://localhost:8080/"
        },
        "id": "T8WwExwzFJyf",
        "outputId": "48e4c84a-2d5b-486e-ae7f-438344c37d79"
      },
      "execution_count": 40,
      "outputs": [
        {
          "output_type": "stream",
          "name": "stdout",
          "text": [
            "+---------------+\n",
            "|dayofyear(Date)|\n",
            "+---------------+\n",
            "|             20|\n",
            "|             21|\n",
            "|             22|\n",
            "|             25|\n",
            "|             26|\n",
            "|             27|\n",
            "|             28|\n",
            "|             29|\n",
            "|             32|\n",
            "|             33|\n",
            "|             34|\n",
            "|             35|\n",
            "|             36|\n",
            "|             39|\n",
            "|             40|\n",
            "|             41|\n",
            "|             42|\n",
            "|             43|\n",
            "|             47|\n",
            "|             48|\n",
            "+---------------+\n",
            "only showing top 20 rows\n",
            "\n"
          ]
        }
      ]
    },
    {
      "cell_type": "code",
      "source": [
        "df1.select(month(df1['Date'])).show()"
      ],
      "metadata": {
        "colab": {
          "base_uri": "https://localhost:8080/"
        },
        "id": "ZH0_gB7FFRNK",
        "outputId": "5cbd067d-bb27-49eb-c0b3-3c8dc2fc02a4"
      },
      "execution_count": 41,
      "outputs": [
        {
          "output_type": "stream",
          "name": "stdout",
          "text": [
            "+-----------+\n",
            "|month(Date)|\n",
            "+-----------+\n",
            "|          1|\n",
            "|          1|\n",
            "|          1|\n",
            "|          1|\n",
            "|          1|\n",
            "|          1|\n",
            "|          1|\n",
            "|          1|\n",
            "|          2|\n",
            "|          2|\n",
            "|          2|\n",
            "|          2|\n",
            "|          2|\n",
            "|          2|\n",
            "|          2|\n",
            "|          2|\n",
            "|          2|\n",
            "|          2|\n",
            "|          2|\n",
            "|          2|\n",
            "+-----------+\n",
            "only showing top 20 rows\n",
            "\n"
          ]
        }
      ]
    },
    {
      "cell_type": "code",
      "source": [
        "df1.select(month(df1['Date'])).show()"
      ],
      "metadata": {
        "colab": {
          "base_uri": "https://localhost:8080/"
        },
        "id": "um3l1rXYFUbl",
        "outputId": "f0376520-a436-45d6-b0bf-4f0bfa5b6593"
      },
      "execution_count": 44,
      "outputs": [
        {
          "output_type": "stream",
          "name": "stdout",
          "text": [
            "+-----------+\n",
            "|month(Date)|\n",
            "+-----------+\n",
            "|          1|\n",
            "|          1|\n",
            "|          1|\n",
            "|          1|\n",
            "|          1|\n",
            "|          1|\n",
            "|          1|\n",
            "|          1|\n",
            "|          2|\n",
            "|          2|\n",
            "|          2|\n",
            "|          2|\n",
            "|          2|\n",
            "|          2|\n",
            "|          2|\n",
            "|          2|\n",
            "|          2|\n",
            "|          2|\n",
            "|          2|\n",
            "|          2|\n",
            "+-----------+\n",
            "only showing top 20 rows\n",
            "\n"
          ]
        }
      ]
    },
    {
      "cell_type": "code",
      "source": [
        "df1.withColumn('Month', month(df1['Date'])).show()"
      ],
      "metadata": {
        "colab": {
          "base_uri": "https://localhost:8080/"
        },
        "id": "Ki0eB0x1GUEr",
        "outputId": "6433e64e-d925-4b9d-928c-a8a43c98b444"
      },
      "execution_count": 46,
      "outputs": [
        {
          "output_type": "stream",
          "name": "stdout",
          "text": [
            "+-------------------+---------+---------+---------+---------+---------+--------+-----+\n",
            "|               Date|     Open|     High|      Low|    Close|Adj Close|  Volume|Month|\n",
            "+-------------------+---------+---------+---------+---------+---------+--------+-----+\n",
            "|2016-01-20 00:00:00|61.799999|62.330002|60.200001|    60.84|53.990601|17369100|    1|\n",
            "|2016-01-21 00:00:00|    60.98|62.790001|    60.91|61.880001|54.913509|12089200|    1|\n",
            "|2016-01-22 00:00:00|62.439999|63.259998|62.130001|62.689999|55.632324| 9197500|    1|\n",
            "|2016-01-25 00:00:00|62.779999|    63.82|62.549999|63.450001|56.306763|12823400|    1|\n",
            "|2016-01-26 00:00:00|63.360001|64.470001|63.259998|     64.0|56.794834| 9441200|    1|\n",
            "|2016-01-27 00:00:00|64.099998|    65.18|63.889999|63.950001|56.750477|10214300|    1|\n",
            "|2016-01-28 00:00:00|64.029999|64.510002|    63.43|64.220001| 56.99007|11278300|    1|\n",
            "|2016-01-29 00:00:00|    64.75|66.529999|64.739998|66.360001|58.889149|16439100|    1|\n",
            "|2016-02-01 00:00:00|65.910004|    67.93|65.889999|     67.5| 59.90081|14728400|    2|\n",
            "|2016-02-02 00:00:00|67.300003|67.839996|66.279999|66.860001|59.332867|13585900|    2|\n",
            "|2016-02-03 00:00:00|67.309998|     67.5|    65.07|66.269997| 58.80928|12315600|    2|\n",
            "|2016-02-04 00:00:00|65.760002|66.550003|65.010002|66.419998| 58.94239|12833400|    2|\n",
            "|2016-02-05 00:00:00|66.860001|67.529999|65.879997|     67.0|  59.4571|14196500|    2|\n",
            "|2016-02-08 00:00:00|     66.5|67.150002|65.160004|66.900002|59.368362|20743600|    2|\n",
            "|2016-02-09 00:00:00|65.489998|66.410004|    64.68|65.809998|58.401058|14642400|    2|\n",
            "|2016-02-10 00:00:00|66.190002|66.589996|65.650002|65.790001| 58.38332| 9709300|    2|\n",
            "|2016-02-11 00:00:00|65.019997|65.760002|64.779999|    65.32|57.966228|11186700|    2|\n",
            "|2016-02-12 00:00:00|65.519997|    66.25|64.870003|    66.18|58.729424| 9695500|    2|\n",
            "|2016-02-16 00:00:00|66.610001|66.800003|     65.5|65.900002|58.480934|11360500|    2|\n",
            "|2016-02-17 00:00:00|66.099998|66.610001|65.809998|66.110001|58.667301|12426700|    2|\n",
            "+-------------------+---------+---------+---------+---------+---------+--------+-----+\n",
            "only showing top 20 rows\n",
            "\n"
          ]
        }
      ]
    },
    {
      "cell_type": "code",
      "source": [
        "df2 = df1.withColumn('Month', month(df1['Date']))"
      ],
      "metadata": {
        "id": "dWw6t8XQGroJ"
      },
      "execution_count": 47,
      "outputs": []
    },
    {
      "cell_type": "code",
      "source": [
        "df2.groupBy(\"Month\").mean()[['avg(Month)', 'avg(Close)']].show()"
      ],
      "metadata": {
        "colab": {
          "base_uri": "https://localhost:8080/"
        },
        "id": "hHswUL3kG2qI",
        "outputId": "d168d2d4-49f7-42b9-8f0b-4191ee65bb2d"
      },
      "execution_count": 49,
      "outputs": [
        {
          "output_type": "stream",
          "name": "stdout",
          "text": [
            "+----------+------------------+\n",
            "|avg(Month)|        avg(Close)|\n",
            "+----------+------------------+\n",
            "|      12.0|106.02932022330099|\n",
            "|       1.0| 98.94980368627448|\n",
            "|       6.0|  92.2302801401869|\n",
            "|       3.0| 87.44880724770645|\n",
            "|       5.0| 90.54859816822429|\n",
            "|       9.0|100.69396066336634|\n",
            "|       4.0| 91.55893247572816|\n",
            "|       8.0| 96.97705391071432|\n",
            "|       7.0| 96.65647596190469|\n",
            "|      10.0|102.74810810810811|\n",
            "|      11.0|105.59009729126215|\n",
            "|       2.0| 89.16364570833336|\n",
            "+----------+------------------+\n",
            "\n"
          ]
        }
      ]
    },
    {
      "cell_type": "code",
      "source": [
        "df2.show()"
      ],
      "metadata": {
        "colab": {
          "base_uri": "https://localhost:8080/"
        },
        "id": "-20RGk9EHHqz",
        "outputId": "e49dc272-3a07-44a4-f80a-81aa45380e50"
      },
      "execution_count": 50,
      "outputs": [
        {
          "output_type": "stream",
          "name": "stdout",
          "text": [
            "+-------------------+---------+---------+---------+---------+---------+--------+-----+\n",
            "|               Date|     Open|     High|      Low|    Close|Adj Close|  Volume|Month|\n",
            "+-------------------+---------+---------+---------+---------+---------+--------+-----+\n",
            "|2016-01-20 00:00:00|61.799999|62.330002|60.200001|    60.84|53.990601|17369100|    1|\n",
            "|2016-01-21 00:00:00|    60.98|62.790001|    60.91|61.880001|54.913509|12089200|    1|\n",
            "|2016-01-22 00:00:00|62.439999|63.259998|62.130001|62.689999|55.632324| 9197500|    1|\n",
            "|2016-01-25 00:00:00|62.779999|    63.82|62.549999|63.450001|56.306763|12823400|    1|\n",
            "|2016-01-26 00:00:00|63.360001|64.470001|63.259998|     64.0|56.794834| 9441200|    1|\n",
            "|2016-01-27 00:00:00|64.099998|    65.18|63.889999|63.950001|56.750477|10214300|    1|\n",
            "|2016-01-28 00:00:00|64.029999|64.510002|    63.43|64.220001| 56.99007|11278300|    1|\n",
            "|2016-01-29 00:00:00|    64.75|66.529999|64.739998|66.360001|58.889149|16439100|    1|\n",
            "|2016-02-01 00:00:00|65.910004|    67.93|65.889999|     67.5| 59.90081|14728400|    2|\n",
            "|2016-02-02 00:00:00|67.300003|67.839996|66.279999|66.860001|59.332867|13585900|    2|\n",
            "|2016-02-03 00:00:00|67.309998|     67.5|    65.07|66.269997| 58.80928|12315600|    2|\n",
            "|2016-02-04 00:00:00|65.760002|66.550003|65.010002|66.419998| 58.94239|12833400|    2|\n",
            "|2016-02-05 00:00:00|66.860001|67.529999|65.879997|     67.0|  59.4571|14196500|    2|\n",
            "|2016-02-08 00:00:00|     66.5|67.150002|65.160004|66.900002|59.368362|20743600|    2|\n",
            "|2016-02-09 00:00:00|65.489998|66.410004|    64.68|65.809998|58.401058|14642400|    2|\n",
            "|2016-02-10 00:00:00|66.190002|66.589996|65.650002|65.790001| 58.38332| 9709300|    2|\n",
            "|2016-02-11 00:00:00|65.019997|65.760002|64.779999|    65.32|57.966228|11186700|    2|\n",
            "|2016-02-12 00:00:00|65.519997|    66.25|64.870003|    66.18|58.729424| 9695500|    2|\n",
            "|2016-02-16 00:00:00|66.610001|66.800003|     65.5|65.900002|58.480934|11360500|    2|\n",
            "|2016-02-17 00:00:00|66.099998|66.610001|65.809998|66.110001|58.667301|12426700|    2|\n",
            "+-------------------+---------+---------+---------+---------+---------+--------+-----+\n",
            "only showing top 20 rows\n",
            "\n"
          ]
        }
      ]
    },
    {
      "cell_type": "code",
      "source": [
        "!curl https://raw.githubusercontent.com/TakMashhido/PGD-BigData-Tutorial/main/Dataset/customers.csv >> customers.csv"
      ],
      "metadata": {
        "colab": {
          "base_uri": "https://localhost:8080/"
        },
        "id": "QiW_Gfy1I7cv",
        "outputId": "73ef6d11-3ae4-4453-9d6e-1252829dcf51"
      },
      "execution_count": 55,
      "outputs": [
        {
          "output_type": "stream",
          "name": "stdout",
          "text": [
            "  % Total    % Received % Xferd  Average Speed   Time    Time     Time  Current\n",
            "                                 Dload  Upload   Total   Spent    Left  Speed\n",
            "\r  0     0    0     0    0     0      0      0 --:--:-- --:--:-- --:--:--     0\r100   207  100   207    0     0   1617      0 --:--:-- --:--:-- --:--:--  1629\n"
          ]
        }
      ]
    },
    {
      "cell_type": "code",
      "source": [
        "df3 = spark.read.csv('/content/customers.csv', header=True, inferSchema=True)"
      ],
      "metadata": {
        "id": "Uy-_b4I_Jko8"
      },
      "execution_count": 56,
      "outputs": []
    },
    {
      "cell_type": "code",
      "source": [
        "df3.printSchema()"
      ],
      "metadata": {
        "colab": {
          "base_uri": "https://localhost:8080/"
        },
        "id": "L5xb1MloKgO6",
        "outputId": "d40c7505-5be3-4750-dcb4-c24742c318f6"
      },
      "execution_count": 57,
      "outputs": [
        {
          "output_type": "stream",
          "name": "stdout",
          "text": [
            "root\n",
            " |-- Name: string (nullable = true)\n",
            " |-- Phone: long (nullable = true)\n",
            " |-- Group: string (nullable = true)\n",
            "\n"
          ]
        }
      ]
    },
    {
      "cell_type": "code",
      "source": [
        "df3.show()"
      ],
      "metadata": {
        "colab": {
          "base_uri": "https://localhost:8080/"
        },
        "id": "g7Z0rJCAKk5a",
        "outputId": "87213f81-9061-42f8-da5d-b9290ba7405e"
      },
      "execution_count": 58,
      "outputs": [
        {
          "output_type": "stream",
          "name": "stdout",
          "text": [
            "+-------+----------+-----+\n",
            "|   Name|     Phone|Group|\n",
            "+-------+----------+-----+\n",
            "|   John|4085552424|    A|\n",
            "|   Mike|3105552738|    B|\n",
            "| Cassie|4085552424|    B|\n",
            "|  Laura|3105552438|    B|\n",
            "|  Sarah|4085551234|    A|\n",
            "|  David|3105557463|    C|\n",
            "|   Zach|4085553987|    C|\n",
            "|  Kiera|3105552938|    A|\n",
            "|  Alexa|4085559467|    C|\n",
            "|Karissa|3105553475|    A|\n",
            "+-------+----------+-----+\n",
            "\n"
          ]
        }
      ]
    },
    {
      "cell_type": "code",
      "source": [
        "from pyspark.ml.feature import StringIndexer"
      ],
      "metadata": {
        "id": "LYLsVxL2Knnc"
      },
      "execution_count": 59,
      "outputs": []
    },
    {
      "cell_type": "code",
      "source": [
        "df_new= spark.createDataFrame(\n",
        "    [(0, \"a\"), (1, \"b\"), (2, \"c\"), (3, \"a\"), (4, \"b\"), (5, \"c\")],\n",
        "    [\"uder_id\", \"catagory\"]\n",
        ")"
      ],
      "metadata": {
        "id": "1pnca6OdLDvb"
      },
      "execution_count": 60,
      "outputs": []
    },
    {
      "cell_type": "code",
      "source": [
        "df_new.show()"
      ],
      "metadata": {
        "colab": {
          "base_uri": "https://localhost:8080/"
        },
        "id": "0S3gVnlML8iR",
        "outputId": "a9087cc9-c167-4335-9eef-4f0d2210d0d5"
      },
      "execution_count": 61,
      "outputs": [
        {
          "output_type": "stream",
          "name": "stdout",
          "text": [
            "+-------+--------+\n",
            "|uder_id|catagory|\n",
            "+-------+--------+\n",
            "|      0|       a|\n",
            "|      1|       b|\n",
            "|      2|       c|\n",
            "|      3|       a|\n",
            "|      4|       b|\n",
            "|      5|       c|\n",
            "+-------+--------+\n",
            "\n"
          ]
        }
      ]
    },
    {
      "cell_type": "code",
      "source": [
        "indexer = StringIndexer(inputCol='catagory', outputCol=\"catagoryIndex\")"
      ],
      "metadata": {
        "id": "Aek-16W9L_1W"
      },
      "execution_count": 62,
      "outputs": []
    },
    {
      "cell_type": "code",
      "source": [
        "indexed = indexer.fit(df_new).transform(df_new)"
      ],
      "metadata": {
        "id": "6L3bKXKoMW33"
      },
      "execution_count": 64,
      "outputs": []
    },
    {
      "cell_type": "code",
      "source": [
        "indexed.show()"
      ],
      "metadata": {
        "colab": {
          "base_uri": "https://localhost:8080/"
        },
        "id": "gHS2EJUwMikR",
        "outputId": "3f73a063-cf06-41d5-b545-15d61f2a6854"
      },
      "execution_count": 65,
      "outputs": [
        {
          "output_type": "stream",
          "name": "stdout",
          "text": [
            "+-------+--------+-------------+\n",
            "|uder_id|catagory|catagoryIndex|\n",
            "+-------+--------+-------------+\n",
            "|      0|       a|          0.0|\n",
            "|      1|       b|          1.0|\n",
            "|      2|       c|          2.0|\n",
            "|      3|       a|          0.0|\n",
            "|      4|       b|          1.0|\n",
            "|      5|       c|          2.0|\n",
            "+-------+--------+-------------+\n",
            "\n"
          ]
        }
      ]
    },
    {
      "cell_type": "code",
      "source": [
        "from pyspark.ml.linalg import Vectors\n",
        "from pyspark.ml.feature import VectorAssembler"
      ],
      "metadata": {
        "id": "Hqojh62kMrn3"
      },
      "execution_count": 67,
      "outputs": []
    },
    {
      "cell_type": "code",
      "source": [
        "df_vector =spark.createDataFrame(\n",
        "    [(0, 18, 1.0, Vectors.dense([0.0, 10.0, 0.8]), 1.0)],\n",
        "    ['id', 'hour', 'mobile', 'userFeatures', 'clicked']\n",
        ")"
      ],
      "metadata": {
        "id": "C8A9xwbsPO2N"
      },
      "execution_count": 68,
      "outputs": []
    },
    {
      "cell_type": "code",
      "source": [
        "df_vector.show()"
      ],
      "metadata": {
        "colab": {
          "base_uri": "https://localhost:8080/"
        },
        "id": "fi56DXqwQF0c",
        "outputId": "f32426d4-2d85-4878-a08b-da3040780064"
      },
      "execution_count": 69,
      "outputs": [
        {
          "output_type": "stream",
          "name": "stdout",
          "text": [
            "+---+----+------+--------------+-------+\n",
            "| id|hour|mobile|  userFeatures|clicked|\n",
            "+---+----+------+--------------+-------+\n",
            "|  0|  18|   1.0|[0.0,10.0,0.8]|    1.0|\n",
            "+---+----+------+--------------+-------+\n",
            "\n"
          ]
        }
      ]
    },
    {
      "cell_type": "code",
      "source": [
        "assembler = VectorAssembler(\n",
        "    inputCols= ['hour', 'mobile', 'userFeatures'],\n",
        "    outputCol= \"features\"\n",
        ")"
      ],
      "metadata": {
        "id": "sjcZkPr-QI9U"
      },
      "execution_count": 70,
      "outputs": []
    },
    {
      "cell_type": "code",
      "source": [
        "output= assembler.transform(df_vector)"
      ],
      "metadata": {
        "id": "HtM9bcLuQ0rG"
      },
      "execution_count": 71,
      "outputs": []
    },
    {
      "cell_type": "code",
      "source": [
        "output.show()"
      ],
      "metadata": {
        "colab": {
          "base_uri": "https://localhost:8080/"
        },
        "id": "GHYEGyx1RCp2",
        "outputId": "f4c22821-66de-4771-a786-50bc916d504c"
      },
      "execution_count": 72,
      "outputs": [
        {
          "output_type": "stream",
          "name": "stdout",
          "text": [
            "+---+----+------+--------------+-------+--------------------+\n",
            "| id|hour|mobile|  userFeatures|clicked|            features|\n",
            "+---+----+------+--------------+-------+--------------------+\n",
            "|  0|  18|   1.0|[0.0,10.0,0.8]|    1.0|[18.0,1.0,0.0,10....|\n",
            "+---+----+------+--------------+-------+--------------------+\n",
            "\n"
          ]
        }
      ]
    },
    {
      "cell_type": "code",
      "source": [
        "output.select(\"features\", \"clicked\").show()"
      ],
      "metadata": {
        "colab": {
          "base_uri": "https://localhost:8080/"
        },
        "id": "qZHKxPuWRHzA",
        "outputId": "8b4786ee-0887-4759-f1d3-f164c424106e"
      },
      "execution_count": 73,
      "outputs": [
        {
          "output_type": "stream",
          "name": "stdout",
          "text": [
            "+--------------------+-------+\n",
            "|            features|clicked|\n",
            "+--------------------+-------+\n",
            "|[18.0,1.0,0.0,10....|    1.0|\n",
            "+--------------------+-------+\n",
            "\n"
          ]
        }
      ]
    },
    {
      "cell_type": "code",
      "source": [],
      "metadata": {
        "id": "ULSc0KqqRX3_"
      },
      "execution_count": null,
      "outputs": []
    }
  ]
}