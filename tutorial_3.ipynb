{
  "nbformat": 4,
  "nbformat_minor": 0,
  "metadata": {
    "colab": {
      "provenance": []
    },
    "kernelspec": {
      "name": "python3",
      "display_name": "Python 3"
    },
    "language_info": {
      "name": "python"
    }
  },
  "cells": [
    {
      "cell_type": "code",
      "execution_count": null,
      "metadata": {
        "colab": {
          "base_uri": "https://localhost:8080/"
        },
        "id": "PlxAeClxjHQv",
        "outputId": "49196023-a346-4487-b736-68580de87b04"
      },
      "outputs": [
        {
          "output_type": "stream",
          "name": "stdout",
          "text": [
            "Looking in indexes: https://pypi.org/simple, https://us-python.pkg.dev/colab-wheels/public/simple/\n",
            "Requirement already satisfied: pyspark in /usr/local/lib/python3.9/dist-packages (3.3.2)\n",
            "Requirement already satisfied: py4j==0.10.9.5 in /usr/local/lib/python3.9/dist-packages (from pyspark) (0.10.9.5)\n"
          ]
        }
      ],
      "source": [
        "!pip install pyspark"
      ]
    },
    {
      "cell_type": "code",
      "source": [
        "from pyspark.sql import SparkSession"
      ],
      "metadata": {
        "id": "p818_RC8qTKb"
      },
      "execution_count": null,
      "outputs": []
    },
    {
      "cell_type": "code",
      "source": [
        "spark = SparkSession.builder.appName(\"LR\").getOrCreate()"
      ],
      "metadata": {
        "id": "Ln_96pVbC3EX"
      },
      "execution_count": null,
      "outputs": []
    },
    {
      "cell_type": "code",
      "source": [
        "!curl https://raw.githubusercontent.com/TakMashhido/PGD-BigData-Tutorial/main/Dataset/cruise.csv >> cruise.csv"
      ],
      "metadata": {
        "colab": {
          "base_uri": "https://localhost:8080/"
        },
        "id": "-qlLhsxrDBob",
        "outputId": "9ef13f3b-15b3-411c-9dc8-b0038b6eec13"
      },
      "execution_count": null,
      "outputs": [
        {
          "output_type": "stream",
          "name": "stdout",
          "text": [
            "  % Total    % Received % Xferd  Average Speed   Time    Time     Time  Current\n",
            "                                 Dload  Upload   Total   Spent    Left  Speed\n",
            "\r  0     0    0     0    0     0      0      0 --:--:-- --:--:-- --:--:--     0\r100  8734  100  8734    0     0  61943      0 --:--:-- --:--:-- --:--:-- 61943\n"
          ]
        }
      ]
    },
    {
      "cell_type": "code",
      "source": [
        "df = spark.read.csv(\"/content/cruise.csv\", header= True, inferSchema= True)"
      ],
      "metadata": {
        "id": "D-gyEJydFRJo"
      },
      "execution_count": null,
      "outputs": []
    },
    {
      "cell_type": "code",
      "source": [
        "df.printSchema()"
      ],
      "metadata": {
        "colab": {
          "base_uri": "https://localhost:8080/"
        },
        "id": "QqcZKSgbFfDC",
        "outputId": "9a62c16d-ad59-4f48-babc-cb206a29639b"
      },
      "execution_count": null,
      "outputs": [
        {
          "output_type": "stream",
          "name": "stdout",
          "text": [
            "root\n",
            " |-- Ship_name: string (nullable = true)\n",
            " |-- Cruise_line: string (nullable = true)\n",
            " |-- Age: integer (nullable = true)\n",
            " |-- Tonnage: double (nullable = true)\n",
            " |-- passengers: double (nullable = true)\n",
            " |-- length: double (nullable = true)\n",
            " |-- cabins: double (nullable = true)\n",
            " |-- passenger_density: double (nullable = true)\n",
            " |-- crew: double (nullable = true)\n",
            "\n"
          ]
        }
      ]
    },
    {
      "cell_type": "code",
      "source": [
        "df.show()"
      ],
      "metadata": {
        "colab": {
          "base_uri": "https://localhost:8080/"
        },
        "id": "vKqbxTNiFnBW",
        "outputId": "64caa414-5b28-422f-e3f3-5d70ac8e95c1"
      },
      "execution_count": null,
      "outputs": [
        {
          "output_type": "stream",
          "name": "stdout",
          "text": [
            "+-----------+-----------+---+------------------+----------+------+------+-----------------+----+\n",
            "|  Ship_name|Cruise_line|Age|           Tonnage|passengers|length|cabins|passenger_density|crew|\n",
            "+-----------+-----------+---+------------------+----------+------+------+-----------------+----+\n",
            "|    Journey|    Azamara|  6|30.276999999999997|      6.94|  5.94|  3.55|            42.64|3.55|\n",
            "|      Quest|    Azamara|  6|30.276999999999997|      6.94|  5.94|  3.55|            42.64|3.55|\n",
            "|Celebration|   Carnival| 26|            47.262|     14.86|  7.22|  7.43|             31.8| 6.7|\n",
            "|   Conquest|   Carnival| 11|             110.0|     29.74|  9.53| 14.88|            36.99|19.1|\n",
            "|    Destiny|   Carnival| 17|           101.353|     26.42|  8.92| 13.21|            38.36|10.0|\n",
            "|    Ecstasy|   Carnival| 22|            70.367|     20.52|  8.55|  10.2|            34.29| 9.2|\n",
            "|    Elation|   Carnival| 15|            70.367|     20.52|  8.55|  10.2|            34.29| 9.2|\n",
            "|    Fantasy|   Carnival| 23|            70.367|     20.56|  8.55| 10.22|            34.23| 9.2|\n",
            "|Fascination|   Carnival| 19|            70.367|     20.52|  8.55|  10.2|            34.29| 9.2|\n",
            "|    Freedom|   Carnival|  6|110.23899999999999|      37.0|  9.51| 14.87|            29.79|11.5|\n",
            "|      Glory|   Carnival| 10|             110.0|     29.74|  9.51| 14.87|            36.99|11.6|\n",
            "|    Holiday|   Carnival| 28|            46.052|     14.52|  7.27|  7.26|            31.72| 6.6|\n",
            "|Imagination|   Carnival| 18|            70.367|     20.52|  8.55|  10.2|            34.29| 9.2|\n",
            "|Inspiration|   Carnival| 17|            70.367|     20.52|  8.55|  10.2|            34.29| 9.2|\n",
            "|     Legend|   Carnival| 11|              86.0|     21.24|  9.63| 10.62|            40.49| 9.3|\n",
            "|   Liberty*|   Carnival|  8|             110.0|     29.74|  9.51| 14.87|            36.99|11.6|\n",
            "|    Miracle|   Carnival|  9|              88.5|     21.24|  9.63| 10.62|            41.67|10.3|\n",
            "|   Paradise|   Carnival| 15|            70.367|     20.52|  8.55|  10.2|            34.29| 9.2|\n",
            "|      Pride|   Carnival| 12|              88.5|     21.24|  9.63| 11.62|            41.67| 9.3|\n",
            "|  Sensation|   Carnival| 20|            70.367|     20.52|  8.55|  10.2|            34.29| 9.2|\n",
            "+-----------+-----------+---+------------------+----------+------+------+-----------------+----+\n",
            "only showing top 20 rows\n",
            "\n"
          ]
        }
      ]
    },
    {
      "cell_type": "code",
      "source": [
        "df.groupBy(\"Cruise_line\").count().show()"
      ],
      "metadata": {
        "colab": {
          "base_uri": "https://localhost:8080/"
        },
        "id": "Z-nVrlHhFvvs",
        "outputId": "77dd42f3-6743-46a4-f998-9517c32cf534"
      },
      "execution_count": null,
      "outputs": [
        {
          "output_type": "stream",
          "name": "stdout",
          "text": [
            "+-----------------+-----+\n",
            "|      Cruise_line|count|\n",
            "+-----------------+-----+\n",
            "|            Costa|   11|\n",
            "|              P&O|    6|\n",
            "|           Cunard|    3|\n",
            "|Regent_Seven_Seas|    5|\n",
            "|              MSC|    8|\n",
            "|         Carnival|   22|\n",
            "|          Crystal|    2|\n",
            "|           Orient|    1|\n",
            "|         Princess|   17|\n",
            "|        Silversea|    4|\n",
            "|         Seabourn|    3|\n",
            "| Holland_American|   14|\n",
            "|         Windstar|    3|\n",
            "|           Disney|    2|\n",
            "|        Norwegian|   13|\n",
            "|          Oceania|    3|\n",
            "|          Azamara|    2|\n",
            "|        Celebrity|   10|\n",
            "|             Star|    6|\n",
            "|  Royal_Caribbean|   23|\n",
            "+-----------------+-----+\n",
            "\n"
          ]
        }
      ]
    },
    {
      "cell_type": "code",
      "source": [
        "from pyspark.ml.feature import StringIndexer"
      ],
      "metadata": {
        "id": "nD_b_lr5GOQi"
      },
      "execution_count": null,
      "outputs": []
    },
    {
      "cell_type": "code",
      "source": [
        "indexer = StringIndexer(inputCol=\"Cruise_line\", outputCol=\"cruise_cat\")"
      ],
      "metadata": {
        "id": "JxRLC4hcGZED"
      },
      "execution_count": null,
      "outputs": []
    },
    {
      "cell_type": "code",
      "source": [
        "indexed = indexer.fit(df).transform(df)"
      ],
      "metadata": {
        "id": "CEkIkgrtGllp"
      },
      "execution_count": null,
      "outputs": []
    },
    {
      "cell_type": "code",
      "source": [
        "indexed.show()"
      ],
      "metadata": {
        "colab": {
          "base_uri": "https://localhost:8080/"
        },
        "id": "8U75NTV0GsPK",
        "outputId": "e032fe01-b471-4cac-e338-db9384e631d9"
      },
      "execution_count": null,
      "outputs": [
        {
          "output_type": "stream",
          "name": "stdout",
          "text": [
            "+-----------+-----------+---+------------------+----------+------+------+-----------------+----+----------+\n",
            "|  Ship_name|Cruise_line|Age|           Tonnage|passengers|length|cabins|passenger_density|crew|cruise_cat|\n",
            "+-----------+-----------+---+------------------+----------+------+------+-----------------+----+----------+\n",
            "|    Journey|    Azamara|  6|30.276999999999997|      6.94|  5.94|  3.55|            42.64|3.55|      16.0|\n",
            "|      Quest|    Azamara|  6|30.276999999999997|      6.94|  5.94|  3.55|            42.64|3.55|      16.0|\n",
            "|Celebration|   Carnival| 26|            47.262|     14.86|  7.22|  7.43|             31.8| 6.7|       1.0|\n",
            "|   Conquest|   Carnival| 11|             110.0|     29.74|  9.53| 14.88|            36.99|19.1|       1.0|\n",
            "|    Destiny|   Carnival| 17|           101.353|     26.42|  8.92| 13.21|            38.36|10.0|       1.0|\n",
            "|    Ecstasy|   Carnival| 22|            70.367|     20.52|  8.55|  10.2|            34.29| 9.2|       1.0|\n",
            "|    Elation|   Carnival| 15|            70.367|     20.52|  8.55|  10.2|            34.29| 9.2|       1.0|\n",
            "|    Fantasy|   Carnival| 23|            70.367|     20.56|  8.55| 10.22|            34.23| 9.2|       1.0|\n",
            "|Fascination|   Carnival| 19|            70.367|     20.52|  8.55|  10.2|            34.29| 9.2|       1.0|\n",
            "|    Freedom|   Carnival|  6|110.23899999999999|      37.0|  9.51| 14.87|            29.79|11.5|       1.0|\n",
            "|      Glory|   Carnival| 10|             110.0|     29.74|  9.51| 14.87|            36.99|11.6|       1.0|\n",
            "|    Holiday|   Carnival| 28|            46.052|     14.52|  7.27|  7.26|            31.72| 6.6|       1.0|\n",
            "|Imagination|   Carnival| 18|            70.367|     20.52|  8.55|  10.2|            34.29| 9.2|       1.0|\n",
            "|Inspiration|   Carnival| 17|            70.367|     20.52|  8.55|  10.2|            34.29| 9.2|       1.0|\n",
            "|     Legend|   Carnival| 11|              86.0|     21.24|  9.63| 10.62|            40.49| 9.3|       1.0|\n",
            "|   Liberty*|   Carnival|  8|             110.0|     29.74|  9.51| 14.87|            36.99|11.6|       1.0|\n",
            "|    Miracle|   Carnival|  9|              88.5|     21.24|  9.63| 10.62|            41.67|10.3|       1.0|\n",
            "|   Paradise|   Carnival| 15|            70.367|     20.52|  8.55|  10.2|            34.29| 9.2|       1.0|\n",
            "|      Pride|   Carnival| 12|              88.5|     21.24|  9.63| 11.62|            41.67| 9.3|       1.0|\n",
            "|  Sensation|   Carnival| 20|            70.367|     20.52|  8.55|  10.2|            34.29| 9.2|       1.0|\n",
            "+-----------+-----------+---+------------------+----------+------+------+-----------------+----+----------+\n",
            "only showing top 20 rows\n",
            "\n"
          ]
        }
      ]
    },
    {
      "cell_type": "code",
      "source": [
        "indexed.columns"
      ],
      "metadata": {
        "colab": {
          "base_uri": "https://localhost:8080/"
        },
        "id": "2BXT4IaoJaeu",
        "outputId": "4569f972-1b0e-4fcd-a945-2bd4dd18c7f0"
      },
      "execution_count": null,
      "outputs": [
        {
          "output_type": "execute_result",
          "data": {
            "text/plain": [
              "['Ship_name',\n",
              " 'Cruise_line',\n",
              " 'Age',\n",
              " 'Tonnage',\n",
              " 'passengers',\n",
              " 'length',\n",
              " 'cabins',\n",
              " 'passenger_density',\n",
              " 'crew',\n",
              " 'cruise_cat']"
            ]
          },
          "metadata": {},
          "execution_count": 15
        }
      ]
    },
    {
      "cell_type": "code",
      "source": [
        "from pyspark.ml.linalg import Vector\n",
        "from pyspark.ml.feature import VectorAssembler"
      ],
      "metadata": {
        "id": "QVDoLQFFGyHp"
      },
      "execution_count": null,
      "outputs": []
    },
    {
      "cell_type": "code",
      "source": [
        "assembler =VectorAssembler(\n",
        "    inputCols=[\n",
        "            'Age',\n",
        "            'Tonnage',\n",
        "            'passengers',\n",
        "            'length',\n",
        "            'cabins',\n",
        "            'passenger_density',\n",
        "            'cruise_cat'],\n",
        "    outputCol=\"features\"\n",
        ")"
      ],
      "metadata": {
        "id": "GFgZcRs_JNeo"
      },
      "execution_count": null,
      "outputs": []
    },
    {
      "cell_type": "code",
      "source": [
        "output = assembler.transform(indexed)"
      ],
      "metadata": {
        "id": "4mRUgqqsKNDV"
      },
      "execution_count": null,
      "outputs": []
    },
    {
      "cell_type": "code",
      "source": [
        "output.show()"
      ],
      "metadata": {
        "colab": {
          "base_uri": "https://localhost:8080/"
        },
        "id": "wZHX9kpdKXfS",
        "outputId": "13eb4cce-6ee0-4fd0-abaa-7d28648f1bcf"
      },
      "execution_count": null,
      "outputs": [
        {
          "output_type": "stream",
          "name": "stdout",
          "text": [
            "+-----------+-----------+---+------------------+----------+------+------+-----------------+----+----------+--------------------+\n",
            "|  Ship_name|Cruise_line|Age|           Tonnage|passengers|length|cabins|passenger_density|crew|cruise_cat|            features|\n",
            "+-----------+-----------+---+------------------+----------+------+------+-----------------+----+----------+--------------------+\n",
            "|    Journey|    Azamara|  6|30.276999999999997|      6.94|  5.94|  3.55|            42.64|3.55|      16.0|[6.0,30.276999999...|\n",
            "|      Quest|    Azamara|  6|30.276999999999997|      6.94|  5.94|  3.55|            42.64|3.55|      16.0|[6.0,30.276999999...|\n",
            "|Celebration|   Carnival| 26|            47.262|     14.86|  7.22|  7.43|             31.8| 6.7|       1.0|[26.0,47.262,14.8...|\n",
            "|   Conquest|   Carnival| 11|             110.0|     29.74|  9.53| 14.88|            36.99|19.1|       1.0|[11.0,110.0,29.74...|\n",
            "|    Destiny|   Carnival| 17|           101.353|     26.42|  8.92| 13.21|            38.36|10.0|       1.0|[17.0,101.353,26....|\n",
            "|    Ecstasy|   Carnival| 22|            70.367|     20.52|  8.55|  10.2|            34.29| 9.2|       1.0|[22.0,70.367,20.5...|\n",
            "|    Elation|   Carnival| 15|            70.367|     20.52|  8.55|  10.2|            34.29| 9.2|       1.0|[15.0,70.367,20.5...|\n",
            "|    Fantasy|   Carnival| 23|            70.367|     20.56|  8.55| 10.22|            34.23| 9.2|       1.0|[23.0,70.367,20.5...|\n",
            "|Fascination|   Carnival| 19|            70.367|     20.52|  8.55|  10.2|            34.29| 9.2|       1.0|[19.0,70.367,20.5...|\n",
            "|    Freedom|   Carnival|  6|110.23899999999999|      37.0|  9.51| 14.87|            29.79|11.5|       1.0|[6.0,110.23899999...|\n",
            "|      Glory|   Carnival| 10|             110.0|     29.74|  9.51| 14.87|            36.99|11.6|       1.0|[10.0,110.0,29.74...|\n",
            "|    Holiday|   Carnival| 28|            46.052|     14.52|  7.27|  7.26|            31.72| 6.6|       1.0|[28.0,46.052,14.5...|\n",
            "|Imagination|   Carnival| 18|            70.367|     20.52|  8.55|  10.2|            34.29| 9.2|       1.0|[18.0,70.367,20.5...|\n",
            "|Inspiration|   Carnival| 17|            70.367|     20.52|  8.55|  10.2|            34.29| 9.2|       1.0|[17.0,70.367,20.5...|\n",
            "|     Legend|   Carnival| 11|              86.0|     21.24|  9.63| 10.62|            40.49| 9.3|       1.0|[11.0,86.0,21.24,...|\n",
            "|   Liberty*|   Carnival|  8|             110.0|     29.74|  9.51| 14.87|            36.99|11.6|       1.0|[8.0,110.0,29.74,...|\n",
            "|    Miracle|   Carnival|  9|              88.5|     21.24|  9.63| 10.62|            41.67|10.3|       1.0|[9.0,88.5,21.24,9...|\n",
            "|   Paradise|   Carnival| 15|            70.367|     20.52|  8.55|  10.2|            34.29| 9.2|       1.0|[15.0,70.367,20.5...|\n",
            "|      Pride|   Carnival| 12|              88.5|     21.24|  9.63| 11.62|            41.67| 9.3|       1.0|[12.0,88.5,21.24,...|\n",
            "|  Sensation|   Carnival| 20|            70.367|     20.52|  8.55|  10.2|            34.29| 9.2|       1.0|[20.0,70.367,20.5...|\n",
            "+-----------+-----------+---+------------------+----------+------+------+-----------------+----+----------+--------------------+\n",
            "only showing top 20 rows\n",
            "\n"
          ]
        }
      ]
    },
    {
      "cell_type": "code",
      "source": [
        "final_data = output.select(\"features\", \"crew\")"
      ],
      "metadata": {
        "id": "RQdO-DhzKaO8"
      },
      "execution_count": null,
      "outputs": []
    },
    {
      "cell_type": "code",
      "source": [
        "final_data.show()"
      ],
      "metadata": {
        "colab": {
          "base_uri": "https://localhost:8080/"
        },
        "id": "BDkgpDfaKntn",
        "outputId": "47f46189-006f-4f4d-f2a3-a438664b1494"
      },
      "execution_count": null,
      "outputs": [
        {
          "output_type": "stream",
          "name": "stdout",
          "text": [
            "+--------------------+----+\n",
            "|            features|crew|\n",
            "+--------------------+----+\n",
            "|[6.0,30.276999999...|3.55|\n",
            "|[6.0,30.276999999...|3.55|\n",
            "|[26.0,47.262,14.8...| 6.7|\n",
            "|[11.0,110.0,29.74...|19.1|\n",
            "|[17.0,101.353,26....|10.0|\n",
            "|[22.0,70.367,20.5...| 9.2|\n",
            "|[15.0,70.367,20.5...| 9.2|\n",
            "|[23.0,70.367,20.5...| 9.2|\n",
            "|[19.0,70.367,20.5...| 9.2|\n",
            "|[6.0,110.23899999...|11.5|\n",
            "|[10.0,110.0,29.74...|11.6|\n",
            "|[28.0,46.052,14.5...| 6.6|\n",
            "|[18.0,70.367,20.5...| 9.2|\n",
            "|[17.0,70.367,20.5...| 9.2|\n",
            "|[11.0,86.0,21.24,...| 9.3|\n",
            "|[8.0,110.0,29.74,...|11.6|\n",
            "|[9.0,88.5,21.24,9...|10.3|\n",
            "|[15.0,70.367,20.5...| 9.2|\n",
            "|[12.0,88.5,21.24,...| 9.3|\n",
            "|[20.0,70.367,20.5...| 9.2|\n",
            "+--------------------+----+\n",
            "only showing top 20 rows\n",
            "\n"
          ]
        }
      ]
    },
    {
      "cell_type": "code",
      "source": [
        "train_data, test_data = final_data.randomSplit([0.8, 0.2], seed = 24)"
      ],
      "metadata": {
        "id": "GdvTodhgKqWy"
      },
      "execution_count": null,
      "outputs": []
    },
    {
      "cell_type": "code",
      "source": [
        "from pyspark.ml.regression import LinearRegression"
      ],
      "metadata": {
        "id": "6WVTknv5Letm"
      },
      "execution_count": null,
      "outputs": []
    },
    {
      "cell_type": "code",
      "source": [
        "lr = LinearRegression(labelCol=\"crew\")"
      ],
      "metadata": {
        "id": "2sRJfOlTLohF"
      },
      "execution_count": null,
      "outputs": []
    },
    {
      "cell_type": "code",
      "source": [
        "model= lr.fit(train_data)"
      ],
      "metadata": {
        "id": "TT5IZjmaLyfY"
      },
      "execution_count": null,
      "outputs": []
    },
    {
      "cell_type": "code",
      "source": [
        "res = model.evaluate(test_data)"
      ],
      "metadata": {
        "id": "uUiJYK9VL6ou"
      },
      "execution_count": null,
      "outputs": []
    },
    {
      "cell_type": "code",
      "source": [
        "res.r2"
      ],
      "metadata": {
        "colab": {
          "base_uri": "https://localhost:8080/"
        },
        "id": "P957hV8YMJDV",
        "outputId": "8e5cd902-0913-443a-dba8-d77a81620f49"
      },
      "execution_count": null,
      "outputs": [
        {
          "output_type": "execute_result",
          "data": {
            "text/plain": [
              "0.9721372591819774"
            ]
          },
          "metadata": {},
          "execution_count": 29
        }
      ]
    },
    {
      "cell_type": "code",
      "source": [
        "res.rootMeanSquaredError"
      ],
      "metadata": {
        "colab": {
          "base_uri": "https://localhost:8080/"
        },
        "id": "3PO2q4MLMOtO",
        "outputId": "35b1a1c6-16cf-4ebb-daf3-c0bb44bdfffe"
      },
      "execution_count": null,
      "outputs": [
        {
          "output_type": "execute_result",
          "data": {
            "text/plain": [
              "0.4783645381106928"
            ]
          },
          "metadata": {},
          "execution_count": 30
        }
      ]
    },
    {
      "cell_type": "code",
      "source": [
        "!curl https://raw.githubusercontent.com/TakMashhido/PGD-BigData-Tutorial/main/Dataset/e-com_customer.csv >> ecom.csv"
      ],
      "metadata": {
        "colab": {
          "base_uri": "https://localhost:8080/"
        },
        "id": "rcJl8Yv4Me3Y",
        "outputId": "7647c696-a6d8-4227-a772-5a9311405d94"
      },
      "execution_count": null,
      "outputs": [
        {
          "output_type": "stream",
          "name": "stdout",
          "text": [
            "  % Total    % Received % Xferd  Average Speed   Time    Time     Time  Current\n",
            "                                 Dload  Upload   Total   Spent    Left  Speed\n",
            "\r  0     0    0     0    0     0      0      0 --:--:-- --:--:-- --:--:--     0\r100 86871  100 86871    0     0   415k      0 --:--:-- --:--:-- --:--:--  415k\n"
          ]
        }
      ]
    },
    {
      "cell_type": "code",
      "source": [
        "data = spark.read.csv(\"/content/ecom.csv\", inferSchema=True, header= True)"
      ],
      "metadata": {
        "id": "utTpBONuPzav"
      },
      "execution_count": null,
      "outputs": []
    },
    {
      "cell_type": "code",
      "source": [
        "data.printSchema()"
      ],
      "metadata": {
        "colab": {
          "base_uri": "https://localhost:8080/"
        },
        "id": "Q47mV8NqP9QI",
        "outputId": "4e2814d9-6c56-4ce6-fbe0-09a3fac434db"
      },
      "execution_count": null,
      "outputs": [
        {
          "output_type": "stream",
          "name": "stdout",
          "text": [
            "root\n",
            " |-- Email: string (nullable = true)\n",
            " |-- Address: string (nullable = true)\n",
            " |-- Avatar: string (nullable = true)\n",
            " |-- Avg Session Length: double (nullable = true)\n",
            " |-- Time on App: double (nullable = true)\n",
            " |-- Time on Website: double (nullable = true)\n",
            " |-- Length of Membership: double (nullable = true)\n",
            " |-- Yearly Amount Spent: double (nullable = true)\n",
            "\n"
          ]
        }
      ]
    },
    {
      "cell_type": "code",
      "source": [
        "data.columns"
      ],
      "metadata": {
        "colab": {
          "base_uri": "https://localhost:8080/"
        },
        "id": "ARHK-IxjQTsk",
        "outputId": "15d38be6-f8d2-4260-f285-efa4b473ad55"
      },
      "execution_count": null,
      "outputs": [
        {
          "output_type": "execute_result",
          "data": {
            "text/plain": [
              "['Email',\n",
              " 'Address',\n",
              " 'Avatar',\n",
              " 'Avg Session Length',\n",
              " 'Time on App',\n",
              " 'Time on Website',\n",
              " 'Length of Membership',\n",
              " 'Yearly Amount Spent']"
            ]
          },
          "metadata": {},
          "execution_count": 34
        }
      ]
    },
    {
      "cell_type": "code",
      "source": [
        "assembler = VectorAssembler(\n",
        "    inputCols= ['Avg Session Length',\n",
        "                'Time on App',\n",
        "                'Time on Website',\n",
        "                'Length of Membership',\n",
        "              ],\n",
        "    outputCol=\"features\"\n",
        ")"
      ],
      "metadata": {
        "id": "oXVjqXuyP_4r"
      },
      "execution_count": null,
      "outputs": []
    },
    {
      "cell_type": "code",
      "source": [
        "output=assembler.transform(data)"
      ],
      "metadata": {
        "id": "wer_3__BQiQb"
      },
      "execution_count": null,
      "outputs": []
    },
    {
      "cell_type": "code",
      "source": [
        "final_data = output.select(\"features\", \"Yearly Amount Spent\")"
      ],
      "metadata": {
        "id": "jIeTQNvgQnYV"
      },
      "execution_count": null,
      "outputs": []
    },
    {
      "cell_type": "code",
      "source": [
        "final_data.show()"
      ],
      "metadata": {
        "colab": {
          "base_uri": "https://localhost:8080/"
        },
        "id": "SaDS9jcMQxgI",
        "outputId": "b3e8a950-bc71-4e63-d61b-d97398f16c75"
      },
      "execution_count": null,
      "outputs": [
        {
          "output_type": "stream",
          "name": "stdout",
          "text": [
            "+--------------------+-------------------+\n",
            "|            features|Yearly Amount Spent|\n",
            "+--------------------+-------------------+\n",
            "|[34.4972677251122...|  587.9510539684005|\n",
            "|[31.9262720263601...|  392.2049334443264|\n",
            "|[33.0009147556426...| 487.54750486747207|\n",
            "|[34.3055566297555...|  581.8523440352177|\n",
            "|[33.3306725236463...|  599.4060920457634|\n",
            "|[33.8710378793419...|   637.102447915074|\n",
            "|[32.0215955013870...|  521.5721747578274|\n",
            "|[32.7391429383803...|  549.9041461052942|\n",
            "|[33.9877728956856...|  570.2004089636196|\n",
            "|[31.9365486184489...|  427.1993848953282|\n",
            "|[33.9925727749537...|  492.6060127179966|\n",
            "|[33.8793608248049...|  522.3374046069357|\n",
            "|[29.5324289670579...|  408.6403510726275|\n",
            "|[33.1903340437226...|  573.4158673313865|\n",
            "|[32.3879758531538...|  470.4527333009554|\n",
            "|[30.7377203726281...|  461.7807421962299|\n",
            "|[32.1253868972878...| 457.84769594494855|\n",
            "|[32.3388993230671...| 407.70454754954415|\n",
            "|[32.1878120459321...|  452.3156754800354|\n",
            "|[32.6178560628234...|   605.061038804892|\n",
            "+--------------------+-------------------+\n",
            "only showing top 20 rows\n",
            "\n"
          ]
        }
      ]
    },
    {
      "cell_type": "code",
      "source": [
        "train_data, test_data = final_data.randomSplit([0.7, 0.3], seed = 71)"
      ],
      "metadata": {
        "id": "2OSoLjmLQ6Kb"
      },
      "execution_count": null,
      "outputs": []
    },
    {
      "cell_type": "code",
      "source": [
        "lr = LinearRegression(labelCol=\"Yearly Amount Spent\")"
      ],
      "metadata": {
        "id": "MMrh00GoQ0p4"
      },
      "execution_count": null,
      "outputs": []
    },
    {
      "cell_type": "code",
      "source": [
        "lrmodel = lr.fit(train_data)"
      ],
      "metadata": {
        "id": "oqY2xWe9RQLM"
      },
      "execution_count": null,
      "outputs": []
    },
    {
      "cell_type": "code",
      "source": [
        "res = lrmodel.evaluate(test_data)"
      ],
      "metadata": {
        "id": "ae1aavozRX-F"
      },
      "execution_count": null,
      "outputs": []
    },
    {
      "cell_type": "code",
      "source": [
        "res.r2"
      ],
      "metadata": {
        "colab": {
          "base_uri": "https://localhost:8080/"
        },
        "id": "FMEM3tDqRd9G",
        "outputId": "b89f1223-5993-47b7-c641-e7682bed7354"
      },
      "execution_count": null,
      "outputs": [
        {
          "output_type": "execute_result",
          "data": {
            "text/plain": [
              "0.9855533130052111"
            ]
          },
          "metadata": {},
          "execution_count": 43
        }
      ]
    },
    {
      "cell_type": "code",
      "source": [
        "res.r2"
      ],
      "metadata": {
        "colab": {
          "base_uri": "https://localhost:8080/"
        },
        "id": "IgvNc6RrRh8X",
        "outputId": "c52e5e74-62c9-432d-e411-c4c586d5d556"
      },
      "execution_count": null,
      "outputs": [
        {
          "output_type": "execute_result",
          "data": {
            "text/plain": [
              "0.982486819515339"
            ]
          },
          "metadata": {},
          "execution_count": 48
        }
      ]
    },
    {
      "cell_type": "code",
      "source": [
        "!curl https://raw.githubusercontent.com/TakMashhido/PGD-BigData-Tutorial/main/Dataset/drug.csv >> drug.csv"
      ],
      "metadata": {
        "colab": {
          "base_uri": "https://localhost:8080/"
        },
        "id": "THy_BJFhR6T-",
        "outputId": "3340ad5d-5454-4cab-8e7a-becf9036806a"
      },
      "execution_count": null,
      "outputs": [
        {
          "output_type": "stream",
          "name": "stdout",
          "text": [
            "  % Total    % Received % Xferd  Average Speed   Time    Time     Time  Current\n",
            "                                 Dload  Upload   Total   Spent    Left  Speed\n",
            "\r  0     0    0     0    0     0      0      0 --:--:-- --:--:-- --:--:--     0\r100  5827  100  5827    0     0  32553      0 --:--:-- --:--:-- --:--:-- 32553\n"
          ]
        }
      ]
    },
    {
      "cell_type": "code",
      "source": [
        "data = spark.read.csv('/content/drug.csv', inferSchema= True, header = True)"
      ],
      "metadata": {
        "id": "mNj16Ab5TBuM"
      },
      "execution_count": null,
      "outputs": []
    },
    {
      "cell_type": "code",
      "source": [
        "data.printSchema()"
      ],
      "metadata": {
        "colab": {
          "base_uri": "https://localhost:8080/"
        },
        "id": "Pgblsm35TMOv",
        "outputId": "543268a2-033a-4ba1-ff7f-788438230b07"
      },
      "execution_count": null,
      "outputs": [
        {
          "output_type": "stream",
          "name": "stdout",
          "text": [
            "root\n",
            " |-- Age: integer (nullable = true)\n",
            " |-- Sex: string (nullable = true)\n",
            " |-- BP: string (nullable = true)\n",
            " |-- Cholesterol: string (nullable = true)\n",
            " |-- Na_to_K: double (nullable = true)\n",
            " |-- Drug: string (nullable = true)\n",
            "\n"
          ]
        }
      ]
    },
    {
      "cell_type": "code",
      "source": [
        "data.show()"
      ],
      "metadata": {
        "colab": {
          "base_uri": "https://localhost:8080/"
        },
        "id": "FiaWZk5TTQ8E",
        "outputId": "3a597b01-2425-4c6f-de42-5cae95281946"
      },
      "execution_count": null,
      "outputs": [
        {
          "output_type": "stream",
          "name": "stdout",
          "text": [
            "+---+---+------+-----------+-------+-----+\n",
            "|Age|Sex|    BP|Cholesterol|Na_to_K| Drug|\n",
            "+---+---+------+-----------+-------+-----+\n",
            "| 23|  F|  HIGH|       HIGH| 25.355|drugY|\n",
            "| 47|  M|   LOW|       HIGH| 13.093|drugC|\n",
            "| 47|  M|   LOW|       HIGH| 10.114|drugC|\n",
            "| 28|  F|NORMAL|       HIGH|  7.798|drugX|\n",
            "| 61|  F|   LOW|       HIGH| 18.043|drugY|\n",
            "| 22|  F|NORMAL|       HIGH|  8.607|drugX|\n",
            "| 49|  F|NORMAL|       HIGH| 16.275|drugY|\n",
            "| 41|  M|   LOW|       HIGH| 11.037|drugC|\n",
            "| 60|  M|NORMAL|       HIGH| 15.171|drugY|\n",
            "| 43|  M|   LOW|     NORMAL| 19.368|drugY|\n",
            "| 47|  F|   LOW|       HIGH| 11.767|drugC|\n",
            "| 34|  F|  HIGH|     NORMAL| 19.199|drugY|\n",
            "| 43|  M|   LOW|       HIGH| 15.376|drugY|\n",
            "| 74|  F|   LOW|       HIGH| 20.942|drugY|\n",
            "| 50|  F|NORMAL|       HIGH| 12.703|drugX|\n",
            "| 16|  F|  HIGH|     NORMAL| 15.516|drugY|\n",
            "| 69|  M|   LOW|     NORMAL| 11.455|drugX|\n",
            "| 43|  M|  HIGH|       HIGH| 13.972|drugA|\n",
            "| 23|  M|   LOW|       HIGH|  7.298|drugC|\n",
            "| 32|  F|  HIGH|     NORMAL| 25.974|drugY|\n",
            "+---+---+------+-----------+-------+-----+\n",
            "only showing top 20 rows\n",
            "\n"
          ]
        }
      ]
    },
    {
      "cell_type": "code",
      "source": [
        "data.columns"
      ],
      "metadata": {
        "colab": {
          "base_uri": "https://localhost:8080/"
        },
        "id": "Nu23ZNjFULgv",
        "outputId": "953d0512-ef08-4586-8822-db56282857da"
      },
      "execution_count": null,
      "outputs": [
        {
          "output_type": "execute_result",
          "data": {
            "text/plain": [
              "['Age', 'Sex', 'BP', 'Cholesterol', 'Na_to_K', 'Drug']"
            ]
          },
          "metadata": {},
          "execution_count": 53
        }
      ]
    },
    {
      "cell_type": "code",
      "source": [
        "indexer = [StringIndexer(inputCol=column, outputCol=column+\"_index\").fit(data) for column in list(set(data.columns)-set(['Age', 'Na_to_K' ]))]"
      ],
      "metadata": {
        "id": "-2IkabEuTa9K"
      },
      "execution_count": null,
      "outputs": []
    },
    {
      "cell_type": "code",
      "source": [
        "from pyspark.ml import Pipeline"
      ],
      "metadata": {
        "id": "8RmWd38CVRa2"
      },
      "execution_count": null,
      "outputs": []
    },
    {
      "cell_type": "code",
      "source": [
        "pipeline = Pipeline(stages=indexer)"
      ],
      "metadata": {
        "id": "QeqwSGaSU46W"
      },
      "execution_count": null,
      "outputs": []
    },
    {
      "cell_type": "code",
      "source": [
        "df_d = pipeline.fit(data).transform(data)"
      ],
      "metadata": {
        "id": "uzLiymknVWNa"
      },
      "execution_count": null,
      "outputs": []
    },
    {
      "cell_type": "code",
      "source": [
        "df_d.show()"
      ],
      "metadata": {
        "colab": {
          "base_uri": "https://localhost:8080/"
        },
        "id": "edLcf8Y4VmKy",
        "outputId": "7e1478be-8843-4217-9e80-f3639d93a197"
      },
      "execution_count": null,
      "outputs": [
        {
          "output_type": "stream",
          "name": "stdout",
          "text": [
            "+---+---+------+-----------+-------+-----+-----------------+--------+----------+---------+\n",
            "|Age|Sex|    BP|Cholesterol|Na_to_K| Drug|Cholesterol_index|BP_index|Drug_index|Sex_index|\n",
            "+---+---+------+-----------+-------+-----+-----------------+--------+----------+---------+\n",
            "| 23|  F|  HIGH|       HIGH| 25.355|drugY|              0.0|     0.0|       0.0|      1.0|\n",
            "| 47|  M|   LOW|       HIGH| 13.093|drugC|              0.0|     1.0|       4.0|      0.0|\n",
            "| 47|  M|   LOW|       HIGH| 10.114|drugC|              0.0|     1.0|       4.0|      0.0|\n",
            "| 28|  F|NORMAL|       HIGH|  7.798|drugX|              0.0|     2.0|       1.0|      1.0|\n",
            "| 61|  F|   LOW|       HIGH| 18.043|drugY|              0.0|     1.0|       0.0|      1.0|\n",
            "| 22|  F|NORMAL|       HIGH|  8.607|drugX|              0.0|     2.0|       1.0|      1.0|\n",
            "| 49|  F|NORMAL|       HIGH| 16.275|drugY|              0.0|     2.0|       0.0|      1.0|\n",
            "| 41|  M|   LOW|       HIGH| 11.037|drugC|              0.0|     1.0|       4.0|      0.0|\n",
            "| 60|  M|NORMAL|       HIGH| 15.171|drugY|              0.0|     2.0|       0.0|      0.0|\n",
            "| 43|  M|   LOW|     NORMAL| 19.368|drugY|              1.0|     1.0|       0.0|      0.0|\n",
            "| 47|  F|   LOW|       HIGH| 11.767|drugC|              0.0|     1.0|       4.0|      1.0|\n",
            "| 34|  F|  HIGH|     NORMAL| 19.199|drugY|              1.0|     0.0|       0.0|      1.0|\n",
            "| 43|  M|   LOW|       HIGH| 15.376|drugY|              0.0|     1.0|       0.0|      0.0|\n",
            "| 74|  F|   LOW|       HIGH| 20.942|drugY|              0.0|     1.0|       0.0|      1.0|\n",
            "| 50|  F|NORMAL|       HIGH| 12.703|drugX|              0.0|     2.0|       1.0|      1.0|\n",
            "| 16|  F|  HIGH|     NORMAL| 15.516|drugY|              1.0|     0.0|       0.0|      1.0|\n",
            "| 69|  M|   LOW|     NORMAL| 11.455|drugX|              1.0|     1.0|       1.0|      0.0|\n",
            "| 43|  M|  HIGH|       HIGH| 13.972|drugA|              0.0|     0.0|       2.0|      0.0|\n",
            "| 23|  M|   LOW|       HIGH|  7.298|drugC|              0.0|     1.0|       4.0|      0.0|\n",
            "| 32|  F|  HIGH|     NORMAL| 25.974|drugY|              1.0|     0.0|       0.0|      1.0|\n",
            "+---+---+------+-----------+-------+-----+-----------------+--------+----------+---------+\n",
            "only showing top 20 rows\n",
            "\n"
          ]
        }
      ]
    },
    {
      "cell_type": "code",
      "source": [
        "df_d.columns"
      ],
      "metadata": {
        "colab": {
          "base_uri": "https://localhost:8080/"
        },
        "id": "SM04WZejXwW-",
        "outputId": "134af6e6-dcd4-4435-9641-26da75219811"
      },
      "execution_count": null,
      "outputs": [
        {
          "output_type": "execute_result",
          "data": {
            "text/plain": [
              "['Age',\n",
              " 'Sex',\n",
              " 'BP',\n",
              " 'Cholesterol',\n",
              " 'Na_to_K',\n",
              " 'Drug',\n",
              " 'Cholesterol_index',\n",
              " 'BP_index',\n",
              " 'Drug_index',\n",
              " 'Sex_index']"
            ]
          },
          "metadata": {},
          "execution_count": 64
        }
      ]
    },
    {
      "cell_type": "code",
      "source": [
        "assembler = VectorAssembler(\n",
        "    inputCols = ['Age',\n",
        "                'Na_to_K',\n",
        "                'Cholesterol_index',\n",
        "                'BP_index',\n",
        "                'Sex_index'],\n",
        "    outputCol = \"features\"\n",
        ")"
      ],
      "metadata": {
        "id": "zEIllTokWVWn"
      },
      "execution_count": null,
      "outputs": []
    },
    {
      "cell_type": "code",
      "source": [
        "output = assembler.transform(df_d)"
      ],
      "metadata": {
        "id": "2cnZKEEwYBcC"
      },
      "execution_count": null,
      "outputs": []
    },
    {
      "cell_type": "code",
      "source": [
        "output.show()"
      ],
      "metadata": {
        "colab": {
          "base_uri": "https://localhost:8080/"
        },
        "id": "UdkYQFTuYIIs",
        "outputId": "1c14d2ea-1b97-42c2-ce54-daf8131f89be"
      },
      "execution_count": null,
      "outputs": [
        {
          "output_type": "stream",
          "name": "stdout",
          "text": [
            "+---+---+------+-----------+-------+-----+-----------------+--------+----------+---------+--------------------+\n",
            "|Age|Sex|    BP|Cholesterol|Na_to_K| Drug|Cholesterol_index|BP_index|Drug_index|Sex_index|            features|\n",
            "+---+---+------+-----------+-------+-----+-----------------+--------+----------+---------+--------------------+\n",
            "| 23|  F|  HIGH|       HIGH| 25.355|drugY|              0.0|     0.0|       0.0|      1.0|[23.0,25.355,0.0,...|\n",
            "| 47|  M|   LOW|       HIGH| 13.093|drugC|              0.0|     1.0|       4.0|      0.0|[47.0,13.093,0.0,...|\n",
            "| 47|  M|   LOW|       HIGH| 10.114|drugC|              0.0|     1.0|       4.0|      0.0|[47.0,10.114,0.0,...|\n",
            "| 28|  F|NORMAL|       HIGH|  7.798|drugX|              0.0|     2.0|       1.0|      1.0|[28.0,7.798,0.0,2...|\n",
            "| 61|  F|   LOW|       HIGH| 18.043|drugY|              0.0|     1.0|       0.0|      1.0|[61.0,18.043,0.0,...|\n",
            "| 22|  F|NORMAL|       HIGH|  8.607|drugX|              0.0|     2.0|       1.0|      1.0|[22.0,8.607,0.0,2...|\n",
            "| 49|  F|NORMAL|       HIGH| 16.275|drugY|              0.0|     2.0|       0.0|      1.0|[49.0,16.275,0.0,...|\n",
            "| 41|  M|   LOW|       HIGH| 11.037|drugC|              0.0|     1.0|       4.0|      0.0|[41.0,11.037,0.0,...|\n",
            "| 60|  M|NORMAL|       HIGH| 15.171|drugY|              0.0|     2.0|       0.0|      0.0|[60.0,15.171,0.0,...|\n",
            "| 43|  M|   LOW|     NORMAL| 19.368|drugY|              1.0|     1.0|       0.0|      0.0|[43.0,19.368,1.0,...|\n",
            "| 47|  F|   LOW|       HIGH| 11.767|drugC|              0.0|     1.0|       4.0|      1.0|[47.0,11.767,0.0,...|\n",
            "| 34|  F|  HIGH|     NORMAL| 19.199|drugY|              1.0|     0.0|       0.0|      1.0|[34.0,19.199,1.0,...|\n",
            "| 43|  M|   LOW|       HIGH| 15.376|drugY|              0.0|     1.0|       0.0|      0.0|[43.0,15.376,0.0,...|\n",
            "| 74|  F|   LOW|       HIGH| 20.942|drugY|              0.0|     1.0|       0.0|      1.0|[74.0,20.942,0.0,...|\n",
            "| 50|  F|NORMAL|       HIGH| 12.703|drugX|              0.0|     2.0|       1.0|      1.0|[50.0,12.703,0.0,...|\n",
            "| 16|  F|  HIGH|     NORMAL| 15.516|drugY|              1.0|     0.0|       0.0|      1.0|[16.0,15.516,1.0,...|\n",
            "| 69|  M|   LOW|     NORMAL| 11.455|drugX|              1.0|     1.0|       1.0|      0.0|[69.0,11.455,1.0,...|\n",
            "| 43|  M|  HIGH|       HIGH| 13.972|drugA|              0.0|     0.0|       2.0|      0.0|(5,[0,1],[43.0,13...|\n",
            "| 23|  M|   LOW|       HIGH|  7.298|drugC|              0.0|     1.0|       4.0|      0.0|[23.0,7.298,0.0,1...|\n",
            "| 32|  F|  HIGH|     NORMAL| 25.974|drugY|              1.0|     0.0|       0.0|      1.0|[32.0,25.974,1.0,...|\n",
            "+---+---+------+-----------+-------+-----+-----------------+--------+----------+---------+--------------------+\n",
            "only showing top 20 rows\n",
            "\n"
          ]
        }
      ]
    },
    {
      "cell_type": "code",
      "source": [
        "final_data = output.select(\"features\", \"Drug_index\")"
      ],
      "metadata": {
        "id": "upmRkUOqYY-J"
      },
      "execution_count": null,
      "outputs": []
    },
    {
      "cell_type": "code",
      "source": [
        "final_data.show()"
      ],
      "metadata": {
        "colab": {
          "base_uri": "https://localhost:8080/"
        },
        "id": "VGtiBKQRYoKw",
        "outputId": "5326b487-f36d-4e6a-8ca0-246a783d3aee"
      },
      "execution_count": null,
      "outputs": [
        {
          "output_type": "stream",
          "name": "stdout",
          "text": [
            "+--------------------+----------+\n",
            "|            features|Drug_index|\n",
            "+--------------------+----------+\n",
            "|[23.0,25.355,0.0,...|       0.0|\n",
            "|[47.0,13.093,0.0,...|       4.0|\n",
            "|[47.0,10.114,0.0,...|       4.0|\n",
            "|[28.0,7.798,0.0,2...|       1.0|\n",
            "|[61.0,18.043,0.0,...|       0.0|\n",
            "|[22.0,8.607,0.0,2...|       1.0|\n",
            "|[49.0,16.275,0.0,...|       0.0|\n",
            "|[41.0,11.037,0.0,...|       4.0|\n",
            "|[60.0,15.171,0.0,...|       0.0|\n",
            "|[43.0,19.368,1.0,...|       0.0|\n",
            "|[47.0,11.767,0.0,...|       4.0|\n",
            "|[34.0,19.199,1.0,...|       0.0|\n",
            "|[43.0,15.376,0.0,...|       0.0|\n",
            "|[74.0,20.942,0.0,...|       0.0|\n",
            "|[50.0,12.703,0.0,...|       1.0|\n",
            "|[16.0,15.516,1.0,...|       0.0|\n",
            "|[69.0,11.455,1.0,...|       1.0|\n",
            "|(5,[0,1],[43.0,13...|       2.0|\n",
            "|[23.0,7.298,0.0,1...|       4.0|\n",
            "|[32.0,25.974,1.0,...|       0.0|\n",
            "+--------------------+----------+\n",
            "only showing top 20 rows\n",
            "\n"
          ]
        }
      ]
    },
    {
      "cell_type": "code",
      "source": [
        "from pyspark.ml.classification import DecisionTreeClassifier, RandomForestClassifier"
      ],
      "metadata": {
        "id": "a_SYBHbWYrY8"
      },
      "execution_count": null,
      "outputs": []
    },
    {
      "cell_type": "code",
      "source": [
        "train_data, test_data = final_data.randomSplit([0.8,0.2], seed = 27)"
      ],
      "metadata": {
        "id": "Alwrkzn5ZmPO"
      },
      "execution_count": null,
      "outputs": []
    },
    {
      "cell_type": "code",
      "source": [
        "dt = DecisionTreeClassifier(labelCol=\"Drug_index\", featuresCol=\"features\")\n",
        "rf = RandomForestClassifier(labelCol=\"Drug_index\", featuresCol=\"features\")"
      ],
      "metadata": {
        "id": "ncgbsCtkY_MG"
      },
      "execution_count": null,
      "outputs": []
    },
    {
      "cell_type": "code",
      "source": [
        "dt_model = dt.fit(train_data)"
      ],
      "metadata": {
        "id": "sN2qHapsZcUt"
      },
      "execution_count": null,
      "outputs": []
    },
    {
      "cell_type": "code",
      "source": [
        "rf_model =rf.fit(train_data)"
      ],
      "metadata": {
        "id": "f4ubzoC1ZiRj"
      },
      "execution_count": null,
      "outputs": []
    },
    {
      "cell_type": "code",
      "source": [
        "dt_res =dt_model.transform(test_data)\n",
        "rf_res= rf_model.transform(test_data)"
      ],
      "metadata": {
        "id": "74_3p_NYZ_Dw"
      },
      "execution_count": null,
      "outputs": []
    },
    {
      "cell_type": "code",
      "source": [
        "from pyspark.ml.evaluation import MulticlassClassificationEvaluator"
      ],
      "metadata": {
        "id": "Iy6A-1s8amoF"
      },
      "execution_count": null,
      "outputs": []
    },
    {
      "cell_type": "code",
      "source": [
        "acc_evaluator = MulticlassClassificationEvaluator(labelCol=\"Drug_index\", predictionCol=\"prediction\", metricName=\"accuracy\")"
      ],
      "metadata": {
        "id": "FyKPRf0Fax7d"
      },
      "execution_count": null,
      "outputs": []
    },
    {
      "cell_type": "code",
      "source": [
        "dt_acc = acc_evaluator.evaluate(dt_res)\n",
        "rf_acc = acc_evaluator.evaluate(rf_res)"
      ],
      "metadata": {
        "id": "BK49hXl1bUrn"
      },
      "execution_count": null,
      "outputs": []
    },
    {
      "cell_type": "code",
      "source": [
        "dt_acc*100"
      ],
      "metadata": {
        "colab": {
          "base_uri": "https://localhost:8080/"
        },
        "id": "2hBrrNnFboss",
        "outputId": "3ed21490-bd75-4896-c9c7-57016af75977"
      },
      "execution_count": null,
      "outputs": [
        {
          "output_type": "execute_result",
          "data": {
            "text/plain": [
              "97.82608695652173"
            ]
          },
          "metadata": {},
          "execution_count": 82
        }
      ]
    },
    {
      "cell_type": "code",
      "source": [
        "rf_acc*100"
      ],
      "metadata": {
        "colab": {
          "base_uri": "https://localhost:8080/"
        },
        "id": "NXiMR_ZLb0cR",
        "outputId": "6d36b0cd-e088-4e99-dfe2-7a258f01feb6"
      },
      "execution_count": null,
      "outputs": [
        {
          "output_type": "execute_result",
          "data": {
            "text/plain": [
              "100.0"
            ]
          },
          "metadata": {},
          "execution_count": 83
        }
      ]
    },
    {
      "cell_type": "code",
      "source": [],
      "metadata": {
        "id": "a5M_Q8Rrb6Il"
      },
      "execution_count": null,
      "outputs": []
    }
  ]
}